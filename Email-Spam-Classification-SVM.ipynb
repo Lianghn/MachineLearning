{
 "cells": [
  {
   "cell_type": "markdown",
   "metadata": {},
   "source": [
    "### Spam Classiffication with SVM_Sklearn\n",
    "\n"
   ]
  },
  {
   "cell_type": "markdown",
   "metadata": {},
   "source": [
    "Many email services today provide spam fillters that are able to classify emails\n",
    "into spam and non-spam email with high accuracy. Using SVMs to build spam filter.\n",
    "You will be training a classiffier to classify whether a given email, x, is\n",
    "spam (y = 1) or non-spam (y = 0). In particular,each\n",
    "email will be converted into a feature vector.\n",
    "\n",
    "<img src=\"./images/mail_spam.jpeg\" width=\"200\" />\n",
    "\n",
    "The dataset included for this exercise is based on a a subset of\n",
    "the SpamAssassin Public Corpus, only the body of email is used here."
   ]
  },
  {
   "cell_type": "code",
   "execution_count": 11,
   "metadata": {},
   "outputs": [],
   "source": [
    "%matplotlib inline\n",
    "import numpy as np\n",
    "import pandas as pd\n",
    "import matplotlib.pyplot as plt\n",
    "from scipy.optimize import minimize\n",
    "from scipy.io import loadmat\n",
    "import warnings; warnings.simplefilter('ignore')\n",
    "import re\n",
    "from sklearn import svm\n",
    "from sklearn.model_selection import cross_val_score\n",
    "from sklearn.model_selection import GridSearchCV\n",
    "from sklearn.metrics import classification_report, f1_score"
   ]
  },
  {
   "cell_type": "markdown",
   "metadata": {},
   "source": [
    "#### Emails Preprocessing"
   ]
  },
  {
   "cell_type": "code",
   "execution_count": 136,
   "metadata": {},
   "outputs": [
    {
     "name": "stdout",
     "output_type": "stream",
     "text": [
      "Email contents before preprocessing:\n",
      "\n",
      "Do You Want To Make $1000 Or More Per Week?     If you are a motivated and qualified individual - I  will personally demonstrate to you a system that will  make you $1,000 per week or more! This is NOT mlm.     Call our 24 hour pre-recorded number to get the  details.       000-456-789     I need people who want to make serious money.  Make  the call and get the facts.   Invest 2 minutes in yourself now!     000-456-789     Looking forward to your call and I will introduce you  to people like yourself who are currently making $10,000 plus per week!     000-456-789    3484lJGv6-241lEaN9080lRmS6-271WxHo7524qiyT5-438rjUv5615hQcf0-662eiDB9057dMtVl72  \n"
     ]
    }
   ],
   "source": [
    "email_contents = open('./data/spamSample1.txt').read()\n",
    "print('Email contents before preprocessing:\\n')\n",
    "print(re.sub(r'\\n', ' ', email_contents))"
   ]
  },
  {
   "cell_type": "code",
   "execution_count": 15,
   "metadata": {},
   "outputs": [],
   "source": [
    "def getVocabList():\n",
    "    with open('./data/vocab.txt', 'r') as f:\n",
    "        s = f.readlines()\n",
    "        vocabList = [i.split()[1] for i in s]\n",
    "    return vocabList\n",
    "    \n",
    "def processEmail(email_contents): \n",
    "    \n",
    "    vocabList = getVocabList()\n",
    "    \n",
    "    # ========================== Preprocess Email ===========================\n",
    "    # Lower case\n",
    "    email_contents = email_contents.lower()\n",
    "    # Strip all HTML\n",
    "    # Looks for any expression that starts with < and ends with > and replace\n",
    "    # and does not have any < or > in the tag it with a space\n",
    "    email_contents =re.sub(r'<[^<>]+>', ' ', email_contents);\n",
    "    # Handle Numbers\n",
    "    # Look for one or more characters between 0-9\n",
    "    email_contents = re.sub(r'[0-9]+', 'number', email_contents);\n",
    "    # Handle URLS\n",
    "    # Look for strings starting with http:// or https://\n",
    "    email_contents = re.sub(r'(http|https)://[^\\s]*', 'httpaddr',email_contents);\n",
    "    # Handle Email Addresses\n",
    "    # Look for strings with @ in the middle\n",
    "    email_contents = re.sub( '[^\\s]+@[^\\s]+', 'emailaddr',email_contents);\n",
    "    # Handle $ sign\n",
    "    email_contents = re.sub( '[$]+', 'dollar',email_contents);\n",
    "    \n",
    "    # ========================== Tokenize Email ===============================\n",
    "    l = 0\n",
    "    if len(email_contents.split()):\n",
    "        # Tokenize and also get rid of any punctuation\n",
    "        # Remove any non alphanumeric characters\n",
    "        email_contents = re.sub(r'[^a-zA-Z0-9]+',' ',email_contents)\n",
    "        str1 = email_contents.split(' ')\n",
    "        \n",
    "    word_indices = []\n",
    "    for i in email_contents.split():\n",
    "        if i in vocabList:\n",
    "            word_indices.append(vocabList.index(i))\n",
    "    return email_contents, word_indices"
   ]
  },
  {
   "cell_type": "code",
   "execution_count": 138,
   "metadata": {},
   "outputs": [
    {
     "name": "stdout",
     "output_type": "stream",
     "text": [
      "Email cotents after preprocessing:\n",
      " do you want to make dollarnumber or more per week if you are a motivated and qualified individual i will personally demonstrate to you a system that will make you dollarnumber number per week or more this is not mlm call our number hour pre recorded number to get the details number number number i need people who want to make serious money make the call and get the facts invest number minutes in yourself now number number number looking forward to your call and i will introduce you to people like yourself who are currently making dollarnumber number plus per week number number number numberljgvnumber numberleannumberlrmsnumber numberwxhonumberqiytnumber numberrjuvnumberhqcfnumber numbereidbnumberdmtvlnumber \n",
      "Word Indices:\n",
      " [470, 1892, 1808, 1698, 996, 1181, 1063, 1230, 1826, 809, 1892, 73, 1851, 1698, 1892, 1630, 1664, 1851, 996, 1892, 1119, 1230, 1826, 1181, 1063, 876, 1112, 233, 1190, 1119, 791, 1286, 1119, 1698, 707, 1665, 1119, 1119, 1119, 1092, 1843, 1808, 1698, 996, 996, 1665, 233, 73, 707, 1665, 868, 1119, 824, 1895, 1116, 1119, 1119, 1119, 675, 1698, 1894, 233, 73, 1851, 1892, 1698, 955, 1895, 1843, 1119, 1230, 1826, 1119, 1119, 1119]\n"
     ]
    }
   ],
   "source": [
    "email_contents, word_indices =  processEmail(email_contents)\n",
    "print('Email cotents after preprocessing:\\n',email_contents)\n",
    "print('Word Indices:\\n', word_indices)"
   ]
  },
  {
   "cell_type": "markdown",
   "metadata": {},
   "source": [
    "#### Feature Extraction"
   ]
  },
  {
   "cell_type": "code",
   "execution_count": 17,
   "metadata": {},
   "outputs": [
    {
     "name": "stdout",
     "output_type": "stream",
     "text": [
      "Length of feature vector: 1899\n",
      "Number of non-zero entries: 11\n"
     ]
    }
   ],
   "source": [
    "def emailFeatures(word_indices):\n",
    "    n = 1899\n",
    "    x = np.zeros((n,1))\n",
    "    x[word_indices] = 1\n",
    "    return x\n",
    "features = emailFeatures(word_indices)\n",
    "print('Length of feature vector:', features.shape[0])\n",
    "print('Number of non-zero entries:', features[features==1].shape[0])  "
   ]
  },
  {
   "cell_type": "markdown",
   "metadata": {},
   "source": [
    "#### Spam Classification with SVM Model"
   ]
  },
  {
   "cell_type": "code",
   "execution_count": 7,
   "metadata": {},
   "outputs": [],
   "source": [
    "#Data in spamTrain.mat and spamTest.mat have already been preprocessed with the method below.\n",
    "data = loadmat('./data/spamTrain.mat')\n",
    "Xtrain = data['X']; ytrain = data['y']\n",
    "data = loadmat('./data/spamTest.mat')\n",
    "Xtest = data['Xtest']; ytest = data['ytest']"
   ]
  },
  {
   "cell_type": "code",
   "execution_count": 13,
   "metadata": {},
   "outputs": [
    {
     "name": "stdout",
     "output_type": "stream",
     "text": [
      "Cross-validation recall score is: 0.9072190929123943\n",
      "Test Accuracy with this model (f1-score): 0.919104991394148\n"
     ]
    }
   ],
   "source": [
    "# Simple model.fit on train and model.score on test approach with crossval score with C=1.0\n",
    "model = svm.SVC(C=1.0, kernel='rbf', degree=3, gamma='auto', coef0=0.0, \\\n",
    "            shrinking=True, probability=True, tol=0.001, cache_size=200, \\\n",
    "            class_weight=None, verbose=False, max_iter=-1, decision_function_shape='ovr', \\\n",
    "            random_state=None)\n",
    "Result_crossval = cross_val_score(model, Xtrain, ytrain, scoring='recall_macro',cv=5)\n",
    "model = model.fit(Xtrain,ytrain)\n",
    "ypred = model.predict(Xtest)\n",
    "score = f1_score(ytest, ypred, pos_label=1, average='binary')\n",
    "print('Cross-validation recall score is:',np.mean(Result_crossval))\n",
    "print('Test Accuracy with this model (f1-score):',score)"
   ]
  },
  {
   "cell_type": "code",
   "execution_count": 150,
   "metadata": {},
   "outputs": [
    {
     "name": "stdout",
     "output_type": "stream",
     "text": [
      "SVM model predict that this mail is Spam!\n",
      "predicted spam  probability is: 0.8978750274709653\n"
     ]
    }
   ],
   "source": [
    "#Test on spamSample1.txt \n",
    "email_contents = open('./data/spamSample1.txt').read()\n",
    "email_contents, word_indices =  processEmail(email_contents)\n",
    "features = emailFeatures(word_indices)\n",
    "predict = model.predict(features.reshape(1,1899))\n",
    "print('SVM model predict that this mail', 'is Spam!' if predict[0] == 1 else 'is not Spam.')\n",
    "print('predicted spam  probability is:',(model.predict_proba(features.reshape(1,1899)))[0,1] )"
   ]
  },
  {
   "cell_type": "code",
   "execution_count": 152,
   "metadata": {},
   "outputs": [
    {
     "name": "stdout",
     "output_type": "stream",
     "text": [
      "Email contents before preprocessing:\n",
      "\n",
      "Best Buy Viagra Generic Online  Viagra 100mg x 60 Pills $125, Free Pills & Reorder Discount, Top Selling 100% Quality & Satisfaction guaranteed!  We accept VISA, Master & E-Check Payments, 90000+ Satisfied Customers! http://medphysitcstech.ru   \n"
     ]
    }
   ],
   "source": [
    "#Test on spamSample2.txt\n",
    "email_contents = open('./data/spamSample2.txt').read()\n",
    "print('Email contents before preprocessing:\\n')\n",
    "print(re.sub(r'\\n', ' ', email_contents))"
   ]
  },
  {
   "cell_type": "code",
   "execution_count": 155,
   "metadata": {},
   "outputs": [
    {
     "name": "stdout",
     "output_type": "stream",
     "text": [
      "SVM model predict that this mail is not Spam.\n",
      "predicted spam  probability is: 0.2965737692099745\n"
     ]
    }
   ],
   "source": [
    "email_contents, word_indices =  processEmail(email_contents)\n",
    "features = emailFeatures(word_indices)\n",
    "predict = model.predict(features.reshape(1,1899))\n",
    "print('SVM model predict that this mail', 'is Spam!' if predict[0] == 1 else 'is not Spam.')\n",
    "print('predicted spam  probability is:',(model.predict_proba(features.reshape(1,1899)))[0,1] )"
   ]
  },
  {
   "cell_type": "markdown",
   "metadata": {},
   "source": [
    "The wrong prediction for the second mail is probably due to the small dictionnary size in which \n",
    "even the words like 'buy' are not included. "
   ]
  },
  {
   "cell_type": "markdown",
   "metadata": {},
   "source": [
    "#### Hyperparameter Tunning using Gridsearch with Cross-Validation "
   ]
  },
  {
   "cell_type": "code",
   "execution_count": 184,
   "metadata": {
    "scrolled": true
   },
   "outputs": [
    {
     "name": "stdout",
     "output_type": "stream",
     "text": [
      "Best parameters set found on development set:\n",
      "\n",
      "{'C': 100, 'kernel': 'rbf'}\n",
      "\n",
      "Grid scores on development set:\n",
      "\n",
      "0.907 (+/-0.015) for {'C': 1, 'kernel': 'rbf'}\n",
      "0.966 (+/-0.015) for {'C': 1, 'kernel': 'linear'}\n",
      "0.963 (+/-0.016) for {'C': 10, 'kernel': 'rbf'}\n",
      "0.963 (+/-0.013) for {'C': 10, 'kernel': 'linear'}\n",
      "0.972 (+/-0.015) for {'C': 100, 'kernel': 'rbf'}\n",
      "0.957 (+/-0.012) for {'C': 100, 'kernel': 'linear'}\n",
      "0.967 (+/-0.014) for {'C': 1000, 'kernel': 'rbf'}\n",
      "0.957 (+/-0.012) for {'C': 1000, 'kernel': 'linear'}\n",
      "\n",
      "Detailed classification report:\n",
      "\n",
      "The model is trained on the full development set.\n",
      "The scores are computed on the full evaluation set.\n",
      "\n",
      "             precision    recall  f1-score   support\n",
      "\n",
      "          0       1.00      0.99      0.99       692\n",
      "          1       0.97      0.99      0.98       308\n",
      "\n",
      "avg / total       0.99      0.99      0.99      1000\n",
      "\n",
      "\n"
     ]
    }
   ],
   "source": [
    "tuned_parameters = [{'kernel': ['rbf', 'linear'], 'C': [1, 10, 100, 1000]}]\n",
    "\n",
    "clf = GridSearchCV(svm.SVC(), tuned_parameters, cv=5, scoring='recall_macro')\n",
    "clf.fit(Xtrain, ytrain)\n",
    "\n",
    "print(\"Best parameters set found on development set:\")\n",
    "print()\n",
    "print(clf.best_params_)\n",
    "print()\n",
    "print(\"Grid scores on development set:\")\n",
    "print()\n",
    "means = clf.cv_results_['mean_test_score']\n",
    "stds = clf.cv_results_['std_test_score']\n",
    "for mean, std, params in zip(means, stds, clf.cv_results_['params']):\n",
    "    print(\"%0.3f (+/-%0.03f) for %r\" % (mean, std * 2, params))\n",
    "print()\n",
    "print(\"Detailed classification report:\")\n",
    "print()\n",
    "print(\"The model is trained on the full development set.\")\n",
    "print(\"The scores are computed on the full evaluation set.\")\n",
    "print()\n",
    "y_true, y_pred = ytest, clf.predict(Xtest)\n",
    "print(classification_report(y_true, y_pred))\n"
   ]
  },
  {
   "cell_type": "markdown",
   "metadata": {},
   "source": [
    "Compared to the accuracy (f1-score) of **0.92** obtained with C=1, the accuracy obtained after GridSearch is now **0.99** for test set, real improvement!"
   ]
  }
 ],
 "metadata": {
  "kernelspec": {
   "display_name": "Python 3",
   "language": "python",
   "name": "python3"
  },
  "language_info": {
   "codemirror_mode": {
    "name": "ipython",
    "version": 3
   },
   "file_extension": ".py",
   "mimetype": "text/x-python",
   "name": "python",
   "nbconvert_exporter": "python",
   "pygments_lexer": "ipython3",
   "version": "3.6.5"
  }
 },
 "nbformat": 4,
 "nbformat_minor": 2
}
